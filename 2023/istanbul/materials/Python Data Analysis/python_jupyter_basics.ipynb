{
 "cells": [
  {
   "cell_type": "markdown",
   "id": "fda82fdf",
   "metadata": {},
   "source": [
    "# Installing Python via Anaconda Distribution and Using Jupyter Notebook"
   ]
  },
  {
   "cell_type": "markdown",
   "id": "32e2bc34",
   "metadata": {},
   "source": [
    "## Anaconda Distribution\n",
    "\n",
    "<div>\n",
    "<img src=\"img/anaconda.png\" width=\"300\" align=\"right\"/>\n",
    "</div>\n",
    "\n",
    "\n",
    "- Easily manage **packages** and **environments**, create and share public **notebooks**\n",
    "- Thousands of most fundamental **DS, AI, ML packages**\n",
    "- Download: [https://www.anaconda.com/download](https://www.anaconda.com/download)\n",
    "- Anaconda Documentation: [https://docs.anaconda.com/free/anacondaorg/user-guide/](https://docs.anaconda.com/free/anacondaorg/user-guide/)"
   ]
  },
  {
   "cell_type": "markdown",
   "id": "07301157",
   "metadata": {},
   "source": [
    "### Conda & Anaconda Navigator\n",
    "\n",
    "<div>\n",
    "<img src=\"img/conda.png\" width=\"400\" align=\"left\"/>\n",
    "</div>\n",
    "\n",
    "<div>\n",
    "<img src=\"img/anaconda_navigator.png\" width=\"500\" align=\"right\"/>\n",
    "</div>"
   ]
  },
  {
   "cell_type": "markdown",
   "id": "11b7e4dd",
   "metadata": {},
   "source": [
    "### Creating and Managing Environments\n",
    "\n",
    "- Conda Documentation: [https://conda.io/projects/conda/en/latest/user-guide/tasks/manage-environments.html](https://conda.io/projects/conda/en/latest/user-guide/tasks/manage-environments.html)\n",
    "\n",
    "0. To see a list of your environments:\n",
    "\n",
    "```\n",
    "conda info --envs\n",
    "```\n",
    "\n",
    "1. To create an environment:\n",
    "\n",
    "```\n",
    "conda create --name myenv\n",
    "```\n",
    "\n",
    "2. To create an environment with a specific version of Python:\n",
    "\n",
    "```\n",
    "conda create -n myenv python=3.9\n",
    "```\n",
    "\n",
    "3. To create an environment with a specific package:\n",
    "\n",
    "```\n",
    "conda create -n myenv scipy\n",
    "```\n",
    "\n",
    "OR\n",
    "\n",
    "```\n",
    "conda create -n myenv python\n",
    "conda install -n myenv scipy\n",
    "```\n",
    "\n",
    "4. To create an environment with a specific version of a package:\n",
    "\n",
    "```\n",
    "conda create -n myenv scipy=0.17.3\n",
    "```\n",
    "\n",
    "OR\n",
    "\n",
    "```\n",
    "conda create -n myenv python\n",
    "conda install -n myenv scipy=0.17.3\n",
    "```\n",
    "\n",
    "5. To create an environment with a specific version of Python and multiple packages:\n",
    "\n",
    "```\n",
    "conda create -n myenv python=3.9 scipy=0.17.3 astroid babel\n",
    "```"
   ]
  },
  {
   "cell_type": "markdown",
   "id": "136eb957",
   "metadata": {},
   "source": [
    "### Jupyter Notebook\n",
    "\n",
    "<div>\n",
    "<img src=\"img/jupyter_notebook.png\" width=\"500\" align=\"right\"/>\n",
    "</div>\n",
    "\n",
    "- A **notebook** is a shareable document that combines computer code, plain language descriptions, data, rich visualizations like 3D models, charts, graphs and figures, and interactive controls.\n",
    "- Documentation: [https://docs.jupyter.org/en/latest/](https://docs.jupyter.org/en/latest/)\n",
    "- Two modes:\n",
    "    1. Command Mode\n",
    "    2. Edit Mode\n",
    "- Four Cell Types:\n",
    "    1. [Code](https://jupyter-notebook.readthedocs.io/en/stable/examples/Notebook/Running%20Code.html)\n",
    "    2. [Markdown](https://jupyter-notebook.readthedocs.io/en/stable/examples/Notebook/Working%20With%20Markdown%20Cells.html)\n",
    "    3. Raw NBConvert\n",
    "    4. Heading (No longer supported, user Markdown instead)\n",
    "    \n",
    "#### Keyboard Shortcuts\n",
    "\n",
    "- Help > Keyboard Shortcuts (H)"
   ]
  },
  {
   "cell_type": "markdown",
   "id": "f000086a",
   "metadata": {},
   "source": [
    "## Errors (Exceptions) in Python\n",
    "\n",
    "- Built-in Exceptions (Python Documentation): [https://docs.python.org/3/library/exceptions.html](https://docs.python.org/3/library/exceptions.html)\n",
    "- Common Errors in Python and How to Fix Them (freeCodeCamp.org): [https://www.freecodecamp.org/news/common-errors-in-python-and-how-to-fix-them/](https://www.freecodecamp.org/news/common-errors-in-python-and-how-to-fix-them/)\n",
    "    - The following section is based on this freeCodeCamp.org tutorial.\n",
    "- List of Common Errors:\n",
    "    - **SyntaxError**\n",
    "    - **IndentationError**\n",
    "    - **NameError**\n",
    "    - **TypeError**\n",
    "    - **IndexError**\n",
    "    - **KeyError**\n",
    "    - **AttributeError**"
   ]
  },
  {
   "cell_type": "markdown",
   "id": "bec02c3f",
   "metadata": {},
   "source": [
    "### SyntaxError\n",
    "- **Syntax error** occurs when you have a typo or other mistake in your code that causes it to be invalid syntax.\n",
    "\n",
    "- Example:\n",
    "    - The following code raises SyntaxError because in the if condition, the **assignment operator** (`=`) is used instead of the **comparison operator** (`==`).\n",
    "```python\n",
    "if x = 10:\n",
    "    print(\"x is equal to 10\")\n",
    "```\n",
    "- To avoid **syntax errors**:\n",
    "    - Double-check your code for typos or other mistakes before running it.\n",
    "    - Use a code editor that supports syntax highlighting to help you catch syntax errors.\n",
    "    - Read the error message carefully to determine the location of the error."
   ]
  },
  {
   "cell_type": "code",
   "execution_count": 1,
   "id": "e9085e2a",
   "metadata": {},
   "outputs": [],
   "source": [
    "x = 10"
   ]
  },
  {
   "cell_type": "code",
   "execution_count": 2,
   "id": "2328d876",
   "metadata": {},
   "outputs": [
    {
     "data": {
      "text/plain": [
       "True"
      ]
     },
     "execution_count": 2,
     "metadata": {},
     "output_type": "execute_result"
    }
   ],
   "source": [
    "x == 10"
   ]
  },
  {
   "cell_type": "code",
   "execution_count": 3,
   "id": "6a878e5a",
   "metadata": {},
   "outputs": [
    {
     "ename": "SyntaxError",
     "evalue": "invalid syntax (69744013.py, line 1)",
     "output_type": "error",
     "traceback": [
      "\u001b[1;36m  Cell \u001b[1;32mIn [3], line 1\u001b[1;36m\u001b[0m\n\u001b[1;33m    if x = 10:\u001b[0m\n\u001b[1;37m         ^\u001b[0m\n\u001b[1;31mSyntaxError\u001b[0m\u001b[1;31m:\u001b[0m invalid syntax\n"
     ]
    }
   ],
   "source": [
    "if x = 10:\n",
    "    print(\"x is equal to 10\")"
   ]
  },
  {
   "cell_type": "code",
   "execution_count": 4,
   "id": "318d2568",
   "metadata": {},
   "outputs": [
    {
     "name": "stdout",
     "output_type": "stream",
     "text": [
      "x is equal to 10\n"
     ]
    }
   ],
   "source": [
    "if x == 10:\n",
    "    print(\"x is equal to 10\")"
   ]
  },
  {
   "cell_type": "markdown",
   "id": "829e6142",
   "metadata": {},
   "source": [
    "### IndentationError\n",
    "\n",
    "- Python uses **whitespace** to indicate blocks of code, so proper indentation is critical.\n",
    "- Example:\n",
    "```python\n",
    "for i in range(10):\n",
    "print(i)\n",
    "```\n",
    "- To avoid **indentation errors**:\n",
    "    - Use four spaces for each level of indentation.\n",
    "    - Don't mix tabs and spaces for indentation.\n",
    "    - Make sure your indentation is consistent throughout your code."
   ]
  },
  {
   "cell_type": "code",
   "execution_count": 5,
   "id": "398daee9",
   "metadata": {},
   "outputs": [
    {
     "ename": "IndentationError",
     "evalue": "expected an indented block (3979827255.py, line 2)",
     "output_type": "error",
     "traceback": [
      "\u001b[1;36m  Cell \u001b[1;32mIn [5], line 2\u001b[1;36m\u001b[0m\n\u001b[1;33m    print(i)\u001b[0m\n\u001b[1;37m    ^\u001b[0m\n\u001b[1;31mIndentationError\u001b[0m\u001b[1;31m:\u001b[0m expected an indented block\n"
     ]
    }
   ],
   "source": [
    "for i in range(10):\n",
    "print(i)"
   ]
  },
  {
   "cell_type": "code",
   "execution_count": 6,
   "id": "3819960a",
   "metadata": {},
   "outputs": [
    {
     "name": "stdout",
     "output_type": "stream",
     "text": [
      "0\n",
      "1\n",
      "2\n",
      "3\n",
      "4\n",
      "5\n",
      "6\n",
      "7\n",
      "8\n",
      "9\n"
     ]
    }
   ],
   "source": [
    "for i in range(10):\n",
    "    print(i)"
   ]
  },
  {
   "cell_type": "markdown",
   "id": "414bb06d",
   "metadata": {},
   "source": [
    "### NameError\n",
    "\n",
    "- **Name errors** occur when you try to use a variable or function that hasn't been defined.\n",
    "- Example:\n",
    "```python\n",
    "my_variable = 5\n",
    "print(my_vairable)\n",
    "```\n",
    "- To avoid **name errors**:\n",
    "    - Make sure you've defined all variables and functions before using them.\n",
    "    - Double-check the spelling and capitalization of your variable and function names.\n",
    "    - Use Python's built-in debugging tools, such as print statements, to help you track down name errors."
   ]
  },
  {
   "cell_type": "code",
   "execution_count": 7,
   "id": "f53d0028",
   "metadata": {},
   "outputs": [
    {
     "ename": "NameError",
     "evalue": "name 'my_vairable' is not defined",
     "output_type": "error",
     "traceback": [
      "\u001b[1;31m---------------------------------------------------------------------------\u001b[0m",
      "\u001b[1;31mNameError\u001b[0m                                 Traceback (most recent call last)",
      "Cell \u001b[1;32mIn [7], line 2\u001b[0m\n\u001b[0;32m      1\u001b[0m my_variable \u001b[38;5;241m=\u001b[39m \u001b[38;5;241m5\u001b[39m\n\u001b[1;32m----> 2\u001b[0m \u001b[38;5;28mprint\u001b[39m(\u001b[43mmy_vairable\u001b[49m)\n",
      "\u001b[1;31mNameError\u001b[0m: name 'my_vairable' is not defined"
     ]
    }
   ],
   "source": [
    "my_variable = 5\n",
    "print(my_vairable)"
   ]
  },
  {
   "cell_type": "code",
   "execution_count": 8,
   "id": "66b885dd",
   "metadata": {},
   "outputs": [
    {
     "name": "stdout",
     "output_type": "stream",
     "text": [
      "5\n"
     ]
    }
   ],
   "source": [
    "my_variable = 5\n",
    "print(my_variable)"
   ]
  },
  {
   "cell_type": "markdown",
   "id": "adc2597b",
   "metadata": {},
   "source": [
    "### TypeError\n",
    "\n",
    "- **Type errors** occur when you try to perform an operation on data of the wrong type.\n",
    "- Example:\n",
    "```python\n",
    "x = \"5\"\n",
    "y = 10\n",
    "result = x + y\n",
    "```\n",
    "- To avoid **type errors**:\n",
    "    - Use type annotations in your code to make it clear what types of data you expect.\n",
    "    - Use Python's built-in type-checking tools, such as the typing module and the mypy tool.\n",
    "    - Write unit tests to ensure that your code handles different types of data correctly."
   ]
  },
  {
   "cell_type": "code",
   "execution_count": 9,
   "id": "e2a28bb9",
   "metadata": {},
   "outputs": [
    {
     "data": {
      "text/plain": [
       "int"
      ]
     },
     "execution_count": 9,
     "metadata": {},
     "output_type": "execute_result"
    }
   ],
   "source": [
    "type(5)"
   ]
  },
  {
   "cell_type": "code",
   "execution_count": 10,
   "id": "8ceba19b",
   "metadata": {},
   "outputs": [
    {
     "data": {
      "text/plain": [
       "float"
      ]
     },
     "execution_count": 10,
     "metadata": {},
     "output_type": "execute_result"
    }
   ],
   "source": [
    "type(5.7)"
   ]
  },
  {
   "cell_type": "code",
   "execution_count": 11,
   "id": "7bfa7400",
   "metadata": {},
   "outputs": [
    {
     "data": {
      "text/plain": [
       "str"
      ]
     },
     "execution_count": 11,
     "metadata": {},
     "output_type": "execute_result"
    }
   ],
   "source": [
    "type(\"5\")"
   ]
  },
  {
   "cell_type": "code",
   "execution_count": 12,
   "id": "785d6b26",
   "metadata": {},
   "outputs": [
    {
     "data": {
      "text/plain": [
       "10"
      ]
     },
     "execution_count": 12,
     "metadata": {},
     "output_type": "execute_result"
    }
   ],
   "source": [
    "5 + 5"
   ]
  },
  {
   "cell_type": "code",
   "execution_count": 13,
   "id": "637f858f",
   "metadata": {},
   "outputs": [
    {
     "data": {
      "text/plain": [
       "10.2"
      ]
     },
     "execution_count": 13,
     "metadata": {},
     "output_type": "execute_result"
    }
   ],
   "source": [
    "5.1 + 5.1"
   ]
  },
  {
   "cell_type": "code",
   "execution_count": 14,
   "id": "1fe07d9e",
   "metadata": {},
   "outputs": [
    {
     "data": {
      "text/plain": [
       "'55'"
      ]
     },
     "execution_count": 14,
     "metadata": {},
     "output_type": "execute_result"
    }
   ],
   "source": [
    "\"5\" + \"5\""
   ]
  },
  {
   "cell_type": "code",
   "execution_count": 15,
   "id": "4735bd70",
   "metadata": {},
   "outputs": [
    {
     "data": {
      "text/plain": [
       "'aa'"
      ]
     },
     "execution_count": 15,
     "metadata": {},
     "output_type": "execute_result"
    }
   ],
   "source": [
    "\"a\" + \"a\""
   ]
  },
  {
   "cell_type": "code",
   "execution_count": 16,
   "id": "9839c2fa",
   "metadata": {},
   "outputs": [
    {
     "ename": "TypeError",
     "evalue": "can only concatenate str (not \"int\") to str",
     "output_type": "error",
     "traceback": [
      "\u001b[1;31m---------------------------------------------------------------------------\u001b[0m",
      "\u001b[1;31mTypeError\u001b[0m                                 Traceback (most recent call last)",
      "Cell \u001b[1;32mIn [16], line 3\u001b[0m\n\u001b[0;32m      1\u001b[0m x \u001b[38;5;241m=\u001b[39m \u001b[38;5;124m\"\u001b[39m\u001b[38;5;124m5\u001b[39m\u001b[38;5;124m\"\u001b[39m\n\u001b[0;32m      2\u001b[0m y \u001b[38;5;241m=\u001b[39m \u001b[38;5;241m10\u001b[39m\n\u001b[1;32m----> 3\u001b[0m result \u001b[38;5;241m=\u001b[39m \u001b[43mx\u001b[49m\u001b[43m \u001b[49m\u001b[38;5;241;43m+\u001b[39;49m\u001b[43m \u001b[49m\u001b[43my\u001b[49m\n",
      "\u001b[1;31mTypeError\u001b[0m: can only concatenate str (not \"int\") to str"
     ]
    }
   ],
   "source": [
    "x = \"5\"\n",
    "y = 10\n",
    "result = x + y"
   ]
  },
  {
   "cell_type": "code",
   "execution_count": 17,
   "id": "2d6b26f9",
   "metadata": {},
   "outputs": [],
   "source": [
    "x = \"5\"\n",
    "y = 10\n",
    "result = int(x) + y"
   ]
  },
  {
   "cell_type": "markdown",
   "id": "8fadbeb1",
   "metadata": {},
   "source": [
    "### IndexError\n",
    "\n",
    "- **Index errors** occur when you try to access an item in a list or other sequence using an index that is out of range.\n",
    "- Example:\n",
    "```python\n",
    "my_list = [1, 2, 3, 4]\n",
    "print(my_list[5])\n",
    "```\n",
    "- To avoid **index errors**:\n",
    "    - Make sure you're using the correct index values for your sequence.\n",
    "    - Use Python's built-in functions, such as len, to determine the length of your sequence before trying to access items in it.\n",
    "    - Use exception handling, such as try and except blocks, to handle index errors gracefully."
   ]
  },
  {
   "cell_type": "code",
   "execution_count": 18,
   "id": "4e6f210e",
   "metadata": {},
   "outputs": [
    {
     "ename": "IndexError",
     "evalue": "list index out of range",
     "output_type": "error",
     "traceback": [
      "\u001b[1;31m---------------------------------------------------------------------------\u001b[0m",
      "\u001b[1;31mIndexError\u001b[0m                                Traceback (most recent call last)",
      "Cell \u001b[1;32mIn [18], line 2\u001b[0m\n\u001b[0;32m      1\u001b[0m my_list \u001b[38;5;241m=\u001b[39m [\u001b[38;5;241m1\u001b[39m, \u001b[38;5;241m2\u001b[39m, \u001b[38;5;241m3\u001b[39m, \u001b[38;5;241m4\u001b[39m]\n\u001b[1;32m----> 2\u001b[0m \u001b[38;5;28mprint\u001b[39m(\u001b[43mmy_list\u001b[49m\u001b[43m[\u001b[49m\u001b[38;5;241;43m5\u001b[39;49m\u001b[43m]\u001b[49m)\n",
      "\u001b[1;31mIndexError\u001b[0m: list index out of range"
     ]
    }
   ],
   "source": [
    "my_list = [1, 2, 3, 4]\n",
    "print(my_list[5])"
   ]
  },
  {
   "cell_type": "code",
   "execution_count": 19,
   "id": "f471e49f",
   "metadata": {},
   "outputs": [
    {
     "data": {
      "text/plain": [
       "4"
      ]
     },
     "execution_count": 19,
     "metadata": {},
     "output_type": "execute_result"
    }
   ],
   "source": [
    "len(my_list)"
   ]
  },
  {
   "cell_type": "code",
   "execution_count": 20,
   "id": "00f950f8",
   "metadata": {},
   "outputs": [
    {
     "name": "stdout",
     "output_type": "stream",
     "text": [
      "4\n"
     ]
    }
   ],
   "source": [
    "my_list = [1, 2, 3, 4]\n",
    "print(my_list[3])"
   ]
  },
  {
   "cell_type": "markdown",
   "id": "c857fbc2",
   "metadata": {},
   "source": [
    "### KeyError\n",
    "\n",
    "- **Key errors** occur when you try to access a dictionary using a key that doesn't exist.\n",
    "- Example:\n",
    "```python\n",
    "my_dict = {\"name\": \"John\", \"age\": 25}\n",
    "print(my_dict[\"gender\"])\n",
    "```\n",
    "- To avoid key errors:\n",
    "    - Make sure you're using the correct keys for your dictionary.\n",
    "    - Use Python's built-in in operator to check whether a key exists in a dictionary before trying to access it.\n",
    "    - Use exception handling, such as try and except blocks, to handle key errors gracefully."
   ]
  },
  {
   "cell_type": "code",
   "execution_count": 21,
   "id": "ee857759",
   "metadata": {},
   "outputs": [
    {
     "ename": "KeyError",
     "evalue": "'gender'",
     "output_type": "error",
     "traceback": [
      "\u001b[1;31m---------------------------------------------------------------------------\u001b[0m",
      "\u001b[1;31mKeyError\u001b[0m                                  Traceback (most recent call last)",
      "Cell \u001b[1;32mIn [21], line 2\u001b[0m\n\u001b[0;32m      1\u001b[0m my_dict \u001b[38;5;241m=\u001b[39m {\u001b[38;5;124m\"\u001b[39m\u001b[38;5;124mname\u001b[39m\u001b[38;5;124m\"\u001b[39m: \u001b[38;5;124m\"\u001b[39m\u001b[38;5;124mJohn\u001b[39m\u001b[38;5;124m\"\u001b[39m, \u001b[38;5;124m\"\u001b[39m\u001b[38;5;124mage\u001b[39m\u001b[38;5;124m\"\u001b[39m: \u001b[38;5;241m25\u001b[39m}\n\u001b[1;32m----> 2\u001b[0m \u001b[38;5;28mprint\u001b[39m(\u001b[43mmy_dict\u001b[49m\u001b[43m[\u001b[49m\u001b[38;5;124;43m\"\u001b[39;49m\u001b[38;5;124;43mgender\u001b[39;49m\u001b[38;5;124;43m\"\u001b[39;49m\u001b[43m]\u001b[49m)\n",
      "\u001b[1;31mKeyError\u001b[0m: 'gender'"
     ]
    }
   ],
   "source": [
    "my_dict = {\"name\": \"John\", \"age\": 25}\n",
    "print(my_dict[\"gender\"])"
   ]
  },
  {
   "cell_type": "code",
   "execution_count": 22,
   "id": "fe4cc9f4",
   "metadata": {},
   "outputs": [
    {
     "data": {
      "text/plain": [
       "dict_keys(['name', 'age'])"
      ]
     },
     "execution_count": 22,
     "metadata": {},
     "output_type": "execute_result"
    }
   ],
   "source": [
    "my_dict.keys()"
   ]
  },
  {
   "cell_type": "code",
   "execution_count": 23,
   "id": "f124e79f",
   "metadata": {},
   "outputs": [
    {
     "name": "stdout",
     "output_type": "stream",
     "text": [
      "Key not found\n"
     ]
    }
   ],
   "source": [
    "# Here, we use the get() method to access the value for the key \"gender\".\n",
    "# The second argument of the get() method specifies the default value to return if the key does not exist.\n",
    "\n",
    "my_dict = {\"name\": \"John\", \"age\": 25}\n",
    "print(my_dict.get(\"gender\", \"Key not found\"))"
   ]
  },
  {
   "cell_type": "code",
   "execution_count": 24,
   "id": "053d766b",
   "metadata": {},
   "outputs": [
    {
     "name": "stdout",
     "output_type": "stream",
     "text": [
      "{'name': 'John', 'age': 25, 'gender': 'male'}\n",
      "male\n"
     ]
    }
   ],
   "source": [
    "# Or, you can add the key-value pair to the dictionary.\n",
    "my_dict[\"gender\"] = \"male\"\n",
    "\n",
    "print(my_dict)\n",
    "print(my_dict[\"gender\"])"
   ]
  },
  {
   "cell_type": "markdown",
   "id": "41a35d41",
   "metadata": {},
   "source": [
    "### AttributeError\n",
    "- **Attribute errors** occur when you try to access an attribute of an object that doesn't exist, or when you try to access an attribute in the wrong way.\n",
    "- Example:\n",
    "    - In the following code, we are trying to add an item to the list using the `add()` method, which does not exist for lists. To add an item to a list, we should use `append()` method.\n",
    "```python\n",
    "my_list = [1, 2, 3, 4]\n",
    "my_list.add(5)\n",
    "```"
   ]
  },
  {
   "cell_type": "code",
   "execution_count": 25,
   "id": "40bab412",
   "metadata": {},
   "outputs": [
    {
     "ename": "AttributeError",
     "evalue": "'list' object has no attribute 'add'",
     "output_type": "error",
     "traceback": [
      "\u001b[1;31m---------------------------------------------------------------------------\u001b[0m",
      "\u001b[1;31mAttributeError\u001b[0m                            Traceback (most recent call last)",
      "Cell \u001b[1;32mIn [25], line 2\u001b[0m\n\u001b[0;32m      1\u001b[0m my_list \u001b[38;5;241m=\u001b[39m [\u001b[38;5;241m1\u001b[39m, \u001b[38;5;241m2\u001b[39m, \u001b[38;5;241m3\u001b[39m, \u001b[38;5;241m4\u001b[39m]\n\u001b[1;32m----> 2\u001b[0m \u001b[43mmy_list\u001b[49m\u001b[38;5;241;43m.\u001b[39;49m\u001b[43madd\u001b[49m(\u001b[38;5;241m5\u001b[39m)\n",
      "\u001b[1;31mAttributeError\u001b[0m: 'list' object has no attribute 'add'"
     ]
    }
   ],
   "source": [
    "my_list = [1, 2, 3, 4]\n",
    "my_list.add(5)"
   ]
  },
  {
   "cell_type": "code",
   "execution_count": 26,
   "id": "5dbe959f",
   "metadata": {},
   "outputs": [
    {
     "name": "stdout",
     "output_type": "stream",
     "text": [
      "[1, 2, 3, 4]\n"
     ]
    }
   ],
   "source": [
    "print(my_list)"
   ]
  },
  {
   "cell_type": "code",
   "execution_count": 27,
   "id": "edbf23fb",
   "metadata": {},
   "outputs": [],
   "source": [
    "my_list = [1, 2, 3, 4]\n",
    "my_list.append(5)"
   ]
  },
  {
   "cell_type": "code",
   "execution_count": 28,
   "id": "60ba855d",
   "metadata": {},
   "outputs": [
    {
     "name": "stdout",
     "output_type": "stream",
     "text": [
      "[1, 2, 3, 4, 5]\n"
     ]
    }
   ],
   "source": [
    "print(my_list)"
   ]
  },
  {
   "cell_type": "markdown",
   "id": "75391af9",
   "metadata": {},
   "source": [
    "## Importing & Exporting CSV & JSON Files"
   ]
  },
  {
   "cell_type": "markdown",
   "id": "5bf21c00",
   "metadata": {},
   "source": [
    "### Generate Random Data and Write to CSV File"
   ]
  },
  {
   "cell_type": "code",
   "execution_count": 29,
   "id": "74cc25cc",
   "metadata": {},
   "outputs": [],
   "source": [
    "import numpy as np\n",
    "import pandas as pd"
   ]
  },
  {
   "cell_type": "code",
   "execution_count": 30,
   "id": "dba353b6",
   "metadata": {},
   "outputs": [
    {
     "name": "stderr",
     "output_type": "stream",
     "text": [
      "C:\\Users\\melihcanyardi\\AppData\\Local\\Temp\\ipykernel_7592\\2568444134.py:3: UserWarning: Parsing dates in DD/MM/YYYY format when dayfirst=False (the default) was specified. This may lead to inconsistently parsed dates! Specify a format to ensure consistent parsing.\n",
      "  col_3 = pd.Series(np.random.choice(pd.date_range(start=\"22/06/2023\", end=\"28/06/2023\", freq=\"D\").date, size=24), name=\"col_3\")\n"
     ]
    }
   ],
   "source": [
    "col_1 = pd.Series(np.random.randint(1, 100, 24), name=\"col_1\")\n",
    "col_2 = pd.Series(np.random.choice([\"male\", \"female\"], size=24), name=\"col_2\")\n",
    "col_3 = pd.Series(np.random.choice(pd.date_range(start=\"22/06/2023\", end=\"28/06/2023\", freq=\"D\").date, size=24), name=\"col_3\")\n",
    "\n",
    "df = pd.concat([col_1, col_2, col_3], axis=1)"
   ]
  },
  {
   "cell_type": "code",
   "execution_count": 31,
   "id": "a76ec742",
   "metadata": {},
   "outputs": [],
   "source": [
    "# Write DataFrame to csv file\n",
    "df.to_csv(\"data.csv\", index=False)"
   ]
  },
  {
   "cell_type": "code",
   "execution_count": 32,
   "id": "6c259653",
   "metadata": {},
   "outputs": [],
   "source": [
    "# Read csv file into DataFrame\n",
    "df_read = pd.read_csv(\"data.csv\")"
   ]
  },
  {
   "cell_type": "code",
   "execution_count": 33,
   "id": "d9a969c7",
   "metadata": {},
   "outputs": [
    {
     "data": {
      "text/html": [
       "<div>\n",
       "<style scoped>\n",
       "    .dataframe tbody tr th:only-of-type {\n",
       "        vertical-align: middle;\n",
       "    }\n",
       "\n",
       "    .dataframe tbody tr th {\n",
       "        vertical-align: top;\n",
       "    }\n",
       "\n",
       "    .dataframe thead th {\n",
       "        text-align: right;\n",
       "    }\n",
       "</style>\n",
       "<table border=\"1\" class=\"dataframe\">\n",
       "  <thead>\n",
       "    <tr style=\"text-align: right;\">\n",
       "      <th></th>\n",
       "      <th>col_1</th>\n",
       "      <th>col_2</th>\n",
       "      <th>col_3</th>\n",
       "    </tr>\n",
       "  </thead>\n",
       "  <tbody>\n",
       "    <tr>\n",
       "      <th>0</th>\n",
       "      <td>44</td>\n",
       "      <td>female</td>\n",
       "      <td>2023-06-23</td>\n",
       "    </tr>\n",
       "    <tr>\n",
       "      <th>1</th>\n",
       "      <td>1</td>\n",
       "      <td>female</td>\n",
       "      <td>2023-06-24</td>\n",
       "    </tr>\n",
       "    <tr>\n",
       "      <th>2</th>\n",
       "      <td>84</td>\n",
       "      <td>female</td>\n",
       "      <td>2023-06-26</td>\n",
       "    </tr>\n",
       "    <tr>\n",
       "      <th>3</th>\n",
       "      <td>54</td>\n",
       "      <td>female</td>\n",
       "      <td>2023-06-24</td>\n",
       "    </tr>\n",
       "    <tr>\n",
       "      <th>4</th>\n",
       "      <td>97</td>\n",
       "      <td>male</td>\n",
       "      <td>2023-06-22</td>\n",
       "    </tr>\n",
       "    <tr>\n",
       "      <th>5</th>\n",
       "      <td>61</td>\n",
       "      <td>female</td>\n",
       "      <td>2023-06-25</td>\n",
       "    </tr>\n",
       "    <tr>\n",
       "      <th>6</th>\n",
       "      <td>14</td>\n",
       "      <td>female</td>\n",
       "      <td>2023-06-24</td>\n",
       "    </tr>\n",
       "    <tr>\n",
       "      <th>7</th>\n",
       "      <td>13</td>\n",
       "      <td>female</td>\n",
       "      <td>2023-06-27</td>\n",
       "    </tr>\n",
       "    <tr>\n",
       "      <th>8</th>\n",
       "      <td>70</td>\n",
       "      <td>male</td>\n",
       "      <td>2023-06-22</td>\n",
       "    </tr>\n",
       "    <tr>\n",
       "      <th>9</th>\n",
       "      <td>48</td>\n",
       "      <td>female</td>\n",
       "      <td>2023-06-24</td>\n",
       "    </tr>\n",
       "    <tr>\n",
       "      <th>10</th>\n",
       "      <td>59</td>\n",
       "      <td>female</td>\n",
       "      <td>2023-06-24</td>\n",
       "    </tr>\n",
       "    <tr>\n",
       "      <th>11</th>\n",
       "      <td>1</td>\n",
       "      <td>female</td>\n",
       "      <td>2023-06-24</td>\n",
       "    </tr>\n",
       "    <tr>\n",
       "      <th>12</th>\n",
       "      <td>24</td>\n",
       "      <td>male</td>\n",
       "      <td>2023-06-28</td>\n",
       "    </tr>\n",
       "    <tr>\n",
       "      <th>13</th>\n",
       "      <td>18</td>\n",
       "      <td>male</td>\n",
       "      <td>2023-06-24</td>\n",
       "    </tr>\n",
       "    <tr>\n",
       "      <th>14</th>\n",
       "      <td>39</td>\n",
       "      <td>male</td>\n",
       "      <td>2023-06-22</td>\n",
       "    </tr>\n",
       "    <tr>\n",
       "      <th>15</th>\n",
       "      <td>46</td>\n",
       "      <td>female</td>\n",
       "      <td>2023-06-25</td>\n",
       "    </tr>\n",
       "    <tr>\n",
       "      <th>16</th>\n",
       "      <td>36</td>\n",
       "      <td>female</td>\n",
       "      <td>2023-06-28</td>\n",
       "    </tr>\n",
       "    <tr>\n",
       "      <th>17</th>\n",
       "      <td>24</td>\n",
       "      <td>female</td>\n",
       "      <td>2023-06-23</td>\n",
       "    </tr>\n",
       "    <tr>\n",
       "      <th>18</th>\n",
       "      <td>90</td>\n",
       "      <td>female</td>\n",
       "      <td>2023-06-27</td>\n",
       "    </tr>\n",
       "    <tr>\n",
       "      <th>19</th>\n",
       "      <td>66</td>\n",
       "      <td>female</td>\n",
       "      <td>2023-06-22</td>\n",
       "    </tr>\n",
       "    <tr>\n",
       "      <th>20</th>\n",
       "      <td>99</td>\n",
       "      <td>female</td>\n",
       "      <td>2023-06-26</td>\n",
       "    </tr>\n",
       "    <tr>\n",
       "      <th>21</th>\n",
       "      <td>31</td>\n",
       "      <td>male</td>\n",
       "      <td>2023-06-27</td>\n",
       "    </tr>\n",
       "    <tr>\n",
       "      <th>22</th>\n",
       "      <td>59</td>\n",
       "      <td>female</td>\n",
       "      <td>2023-06-25</td>\n",
       "    </tr>\n",
       "    <tr>\n",
       "      <th>23</th>\n",
       "      <td>63</td>\n",
       "      <td>female</td>\n",
       "      <td>2023-06-26</td>\n",
       "    </tr>\n",
       "  </tbody>\n",
       "</table>\n",
       "</div>"
      ],
      "text/plain": [
       "    col_1   col_2       col_3\n",
       "0      44  female  2023-06-23\n",
       "1       1  female  2023-06-24\n",
       "2      84  female  2023-06-26\n",
       "3      54  female  2023-06-24\n",
       "4      97    male  2023-06-22\n",
       "5      61  female  2023-06-25\n",
       "6      14  female  2023-06-24\n",
       "7      13  female  2023-06-27\n",
       "8      70    male  2023-06-22\n",
       "9      48  female  2023-06-24\n",
       "10     59  female  2023-06-24\n",
       "11      1  female  2023-06-24\n",
       "12     24    male  2023-06-28\n",
       "13     18    male  2023-06-24\n",
       "14     39    male  2023-06-22\n",
       "15     46  female  2023-06-25\n",
       "16     36  female  2023-06-28\n",
       "17     24  female  2023-06-23\n",
       "18     90  female  2023-06-27\n",
       "19     66  female  2023-06-22\n",
       "20     99  female  2023-06-26\n",
       "21     31    male  2023-06-27\n",
       "22     59  female  2023-06-25\n",
       "23     63  female  2023-06-26"
      ]
     },
     "execution_count": 33,
     "metadata": {},
     "output_type": "execute_result"
    }
   ],
   "source": [
    "df_read"
   ]
  },
  {
   "cell_type": "markdown",
   "id": "4f2f0063",
   "metadata": {},
   "source": [
    "### Write and Read JSON Files"
   ]
  },
  {
   "cell_type": "code",
   "execution_count": 34,
   "id": "2ec922b8",
   "metadata": {},
   "outputs": [],
   "source": [
    "import json"
   ]
  },
  {
   "cell_type": "code",
   "execution_count": 35,
   "id": "d1da4692",
   "metadata": {},
   "outputs": [],
   "source": [
    "data = {\"name\":\"Ali\", \"age\":27, \"location\":\"Istanbul\"}"
   ]
  },
  {
   "cell_type": "code",
   "execution_count": 36,
   "id": "97c9be60",
   "metadata": {},
   "outputs": [],
   "source": [
    "# To convert python dictionary to json, use json.dumps()\n",
    "json_data = json.dumps(data)"
   ]
  },
  {
   "cell_type": "code",
   "execution_count": 37,
   "id": "fefa16f5",
   "metadata": {},
   "outputs": [
    {
     "data": {
      "text/plain": [
       "{'name': 'Ali', 'age': 27, 'location': 'Istanbul'}"
      ]
     },
     "execution_count": 37,
     "metadata": {},
     "output_type": "execute_result"
    }
   ],
   "source": [
    "data"
   ]
  },
  {
   "cell_type": "code",
   "execution_count": 38,
   "id": "115ab3fa",
   "metadata": {},
   "outputs": [
    {
     "data": {
      "text/plain": [
       "dict"
      ]
     },
     "execution_count": 38,
     "metadata": {},
     "output_type": "execute_result"
    }
   ],
   "source": [
    "type(data)"
   ]
  },
  {
   "cell_type": "code",
   "execution_count": 39,
   "id": "23f0fcd3",
   "metadata": {},
   "outputs": [
    {
     "data": {
      "text/plain": [
       "'{\"name\": \"Ali\", \"age\": 27, \"location\": \"Istanbul\"}'"
      ]
     },
     "execution_count": 39,
     "metadata": {},
     "output_type": "execute_result"
    }
   ],
   "source": [
    "json_data"
   ]
  },
  {
   "cell_type": "code",
   "execution_count": 40,
   "id": "1481e894",
   "metadata": {},
   "outputs": [
    {
     "data": {
      "text/plain": [
       "str"
      ]
     },
     "execution_count": 40,
     "metadata": {},
     "output_type": "execute_result"
    }
   ],
   "source": [
    "type(json_data)"
   ]
  },
  {
   "cell_type": "code",
   "execution_count": 41,
   "id": "09809e48",
   "metadata": {},
   "outputs": [],
   "source": [
    "# Write to json file\n",
    "with open(\"json_data.json\", \"w\") as f:\n",
    "    f.write(json_data)"
   ]
  },
  {
   "cell_type": "code",
   "execution_count": 42,
   "id": "bd869909",
   "metadata": {},
   "outputs": [],
   "source": [
    "# Read from json file\n",
    "with open(\"json_data.json\", \"r\") as f:\n",
    "    json_read = f.read()"
   ]
  },
  {
   "cell_type": "code",
   "execution_count": 43,
   "id": "1e2dbc51",
   "metadata": {},
   "outputs": [
    {
     "data": {
      "text/plain": [
       "'{\"name\": \"Ali\", \"age\": 27, \"location\": \"Istanbul\"}'"
      ]
     },
     "execution_count": 43,
     "metadata": {},
     "output_type": "execute_result"
    }
   ],
   "source": [
    "json_read"
   ]
  },
  {
   "cell_type": "code",
   "execution_count": 44,
   "id": "1dd67723",
   "metadata": {},
   "outputs": [
    {
     "data": {
      "text/plain": [
       "{'name': 'Ali', 'age': 27, 'location': 'Istanbul'}"
      ]
     },
     "execution_count": 44,
     "metadata": {},
     "output_type": "execute_result"
    }
   ],
   "source": [
    "# To convert json to python dictionary, use json.loads()\n",
    "data = json.loads(json_read)\n",
    "data"
   ]
  },
  {
   "cell_type": "code",
   "execution_count": 45,
   "id": "7d62cade",
   "metadata": {},
   "outputs": [
    {
     "data": {
      "text/plain": [
       "dict"
      ]
     },
     "execution_count": 45,
     "metadata": {},
     "output_type": "execute_result"
    }
   ],
   "source": [
    "type(data)"
   ]
  }
 ],
 "metadata": {
  "kernelspec": {
   "display_name": "Python 3 (ipykernel)",
   "language": "python",
   "name": "python3"
  },
  "language_info": {
   "codemirror_mode": {
    "name": "ipython",
    "version": 3
   },
   "file_extension": ".py",
   "mimetype": "text/x-python",
   "name": "python",
   "nbconvert_exporter": "python",
   "pygments_lexer": "ipython3",
   "version": "3.9.16"
  }
 },
 "nbformat": 4,
 "nbformat_minor": 5
}
